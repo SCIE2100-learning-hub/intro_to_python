{
 "cells": [
  {
   "cell_type": "markdown",
   "id": "1d1456e8",
   "metadata": {},
   "source": [
    "##### - - -\n",
    "\n",
    "**<center style=\"color:navy;font-size:24pt\">BINF6000: Introduction to Programming in Python</center>**\n",
    "<center style=\"color:black;font-size:10pt\">Version 2025.1<center> "
   ]
  },
  {
   "cell_type": "markdown",
   "id": "305a32f2",
   "metadata": {},
   "source": [
    "<div class=\"panel panel-info\">\n",
    "<div class=\"panel-body\">\n",
    "<center style=\"color:navy;font-size:12pt;font-weight:bold\"> What are we going to do today? A lot of stuff.</center><br />\n",
    "<code style=\"background-color:white\">                                        Types of stuff --> Data types\n",
    "                                   Give names to stuff --> Variable assignments\n",
    "                                            Show stuff --> Print statements\n",
    "                     Do stuff depending on other stuff --> Conditional statements\n",
    "                                Do stuff lots of times --> Loops\n",
    "                         Organize collections of stuff --> Lists\n",
    "              Store methods for stuff for repeated use --> Functions</code><br />\n",
    "</div>\n",
    "</div>"
   ]
  },
  {
   "cell_type": "markdown",
   "id": "fbf06ace",
   "metadata": {},
   "source": [
    "- - -\n",
    "# Part 1: Data types, variables, and print statements\n",
    "- - -\n",
    "\n",
    "**<center style=\"color:darkred;font-size:12pt\">Why do we need different data types?</center>**\n",
    "<br><br>\n",
    "\n",
    "| Data type | Description | Example | \n",
    "| ------- | ------- | ------- |\n",
    "| int (integer) | Any 'whole' number | 5 |\n",
    "| float | Decimals | 5.0 |\n",
    "| boolean | True or False statment | True |\n",
    "| string | \"Stuff\" | Words, including sequence |\n",
    "| list | [0, 1, 2] | Discussed later on |\n",
    "| dictionary | {\"Bioinformatics\":\"awesome\",\t \"Politics”:”meh\"} | Discussed later on |            \n",
    "| None type | None | None |"
   ]
  },
  {
   "cell_type": "markdown",
   "id": "1a2feb09",
   "metadata": {},
   "source": [
    "When we create a variable, we are giving a data type (aka an object) a name"
   ]
  },
  {
   "cell_type": "code",
   "execution_count": null,
   "id": "c2021a23",
   "metadata": {},
   "outputs": [],
   "source": [
    "\n",
    "\n"
   ]
  },
  {
   "cell_type": "markdown",
   "id": "87c435e6",
   "metadata": {},
   "source": [
    "We can use the `type()` function to learn about the different data types for objects. What data type is x? y? i_like_bio?"
   ]
  },
  {
   "cell_type": "code",
   "execution_count": null,
   "id": "13ed5c3e",
   "metadata": {},
   "outputs": [],
   "source": [
    "\n",
    "\n"
   ]
  },
  {
   "cell_type": "markdown",
   "id": "86d4aeb8",
   "metadata": {},
   "source": [
    "Print statements are useful for displaying results and for debugging and locating errors in your code."
   ]
  },
  {
   "cell_type": "code",
   "execution_count": null,
   "id": "8e57eb7e",
   "metadata": {},
   "outputs": [],
   "source": [
    "\n",
    "\n"
   ]
  },
  {
   "cell_type": "markdown",
   "id": "da0f7ddc",
   "metadata": {},
   "source": [
    "- - -\n",
    "**<span style=\"color:navy;font-size:16pt\">Question 1</span>** \n",
    "\n",
    "If a = 125 and b = 300, the two variables added together equal 425 and when multiplied > equal 37500. Write code that will complete these calculations and then display the following text exactly, also using a Boolean for the question of *Is bioinformatics awesome?*\n",
    "\n",
    "```\n",
    "    Sum of a and b = 425\n",
    "    -----\n",
    "    Product of a and b = 37500\n",
    "    -----\n",
    "    Is bioinformatics awesome? True\n",
    "```"
   ]
  },
  {
   "cell_type": "markdown",
   "id": "4cc69b1d",
   "metadata": {},
   "source": [
    "**<span style=\"color:navy;font-size:16pt\">Example answer</span>** "
   ]
  },
  {
   "cell_type": "code",
   "execution_count": null,
   "id": "066f759c",
   "metadata": {},
   "outputs": [],
   "source": [
    "\n",
    "\n"
   ]
  },
  {
   "cell_type": "markdown",
   "id": "ddb5655e",
   "metadata": {},
   "source": [
    "- - -\n",
    "# Part 2: Conditional statements\n",
    "<br>\n",
    "\n",
    "**<center style=\"color:darkred;font-size:12pt\">We make decisions constantly in our daily lives.</center>**\n",
    "<br>\n",
    "**<center style=\"color:darkred;font-size:12pt\">Do I stay here or go there? Do I do this or do that?</center>**\n",
    "<br>\n",
    "**<center style=\"color:darkred;font-size:12pt\">Why is this also important to us when coding?</center>**\n"
   ]
  },
  {
   "cell_type": "markdown",
   "id": "e6c13641",
   "metadata": {},
   "source": [
    "What is the basic structure for a conditional statement?\n"
   ]
  },
  {
   "cell_type": "code",
   "execution_count": null,
   "id": "ad0c80f6",
   "metadata": {},
   "outputs": [],
   "source": [
    "\n",
    "\n"
   ]
  },
  {
   "cell_type": "markdown",
   "id": "ff034e3b",
   "metadata": {},
   "source": [
    "Conditions can be centered around equality, containment, and Boolean variables."
   ]
  },
  {
   "cell_type": "markdown",
   "id": "ffee2dc6",
   "metadata": {},
   "source": [
    "Conditions based on equality:"
   ]
  },
  {
   "cell_type": "code",
   "execution_count": null,
   "id": "210e0db6",
   "metadata": {},
   "outputs": [],
   "source": [
    "\n",
    "\n"
   ]
  },
  {
   "cell_type": "markdown",
   "id": "369ae43d",
   "metadata": {},
   "source": [
    "Conditions based on containment:"
   ]
  },
  {
   "cell_type": "code",
   "execution_count": null,
   "id": "c2ae8b9f",
   "metadata": {},
   "outputs": [],
   "source": [
    "\n",
    "\n"
   ]
  },
  {
   "cell_type": "markdown",
   "id": "f0d494ee",
   "metadata": {},
   "source": [
    "Conditions based on boolean variables:"
   ]
  },
  {
   "cell_type": "code",
   "execution_count": null,
   "id": "6e581ea8",
   "metadata": {},
   "outputs": [],
   "source": [
    "\n",
    "\n"
   ]
  },
  {
   "cell_type": "markdown",
   "id": "a2613bab",
   "metadata": {},
   "source": [
    "Let's explore what happens when we change the Boolean from True to False in the two conditional statements below."
   ]
  },
  {
   "cell_type": "markdown",
   "id": "121b731d",
   "metadata": {},
   "source": [
    "```python\n",
    "print(\"When True...\")\n",
    "i_like_bio = True\n",
    "if i_like_bio:\n",
    "    print(\"Bioinformatics is awesome\")\n",
    "\n",
    "print(\"When False...\")\n",
    "i_like_bio = False\n",
    "if i_like_bio:\n",
    "    print(\"Bioinformatics is awesome\")\n",
    "```"
   ]
  },
  {
   "cell_type": "code",
   "execution_count": null,
   "id": "3ebd9a40",
   "metadata": {},
   "outputs": [],
   "source": [
    "\n",
    "\n"
   ]
  },
  {
   "cell_type": "markdown",
   "id": "426302d8",
   "metadata": {},
   "source": [
    "How can we improve the quality of the information we get back?"
   ]
  },
  {
   "cell_type": "code",
   "execution_count": null,
   "id": "a9504072",
   "metadata": {},
   "outputs": [],
   "source": [
    "\n",
    "\n"
   ]
  },
  {
   "cell_type": "markdown",
   "id": "1a4e5058",
   "metadata": {},
   "source": [
    "- - -\n",
    "**<span style=\"color:navy;font-size:16pt\">Question 2</span>** \n",
    "\n",
    "Define a variable `grade`, that will be assigned an integer from 1-7. Write a conditional statement that will print out different responses depending on what the grade is. Make sure that it is simple to change the value of `grade`, and test the accuracy of your conditional statement using different values.\n",
    "\n",
    "* If your grade is **equal to 7**, print how happy you will be.\n",
    "* If your grade is **above or equal to 4**, print that you have passsed\n",
    "* If your grade is **less than 4**, print something unhappy\n",
    "\n",
    "*Hint: there is a third part to an if/else statement called `else if`, click [here](https://www.w3schools.com/python/python_conditions.asp) to learn more about it or refer to the Python Guide.*"
   ]
  },
  {
   "cell_type": "markdown",
   "id": "4f0e64a9",
   "metadata": {},
   "source": [
    "**<span style=\"color:navy;font-size:16pt\">Example answer</span>** "
   ]
  },
  {
   "cell_type": "code",
   "execution_count": null,
   "id": "82544ebc",
   "metadata": {},
   "outputs": [],
   "source": [
    "\n",
    "\n"
   ]
  },
  {
   "cell_type": "markdown",
   "id": "ae162515",
   "metadata": {},
   "source": [
    "- - -\n",
    "# Part 3: Loops"
   ]
  },
  {
   "cell_type": "markdown",
   "id": "92476c31",
   "metadata": {},
   "source": [
    "**<center style=\"color:darkred;font-size:12pt\">Loops provde a way to iterate over and repeat a section of code multiple times.</center>**\n",
    "\n",
    "**<center style=\"color:darkred;font-size:12pt\">This enables you to do the same thing, more times, and with less code, thereby increasing the efficiency of your code.</center>**"
   ]
  },
  {
   "cell_type": "markdown",
   "id": "72c12c20",
   "metadata": {},
   "source": [
    "Loops can be centered around either the `for` or `while` commands. You can use these commands to iterate through lists, dictionaries, and strings as well as other data structures that lend themselves to this purpose."
   ]
  },
  {
   "cell_type": "code",
   "execution_count": null,
   "id": "521b8928",
   "metadata": {},
   "outputs": [],
   "source": [
    "\n",
    "\n"
   ]
  },
  {
   "cell_type": "markdown",
   "id": "f9ca1652",
   "metadata": {},
   "source": [
    "Because loops using `while` commands will be repeated *while* a condition remains True, be careful about creating infinite loops. An example of an infinite loop is below. As the variable i never changes, the condition never becomes False so the loop will never end."
   ]
  },
  {
   "cell_type": "code",
   "execution_count": null,
   "id": "e34c29c1",
   "metadata": {},
   "outputs": [],
   "source": [
    "\n",
    "\n"
   ]
  },
  {
   "cell_type": "markdown",
   "id": "f0b8a234",
   "metadata": {},
   "source": [
    "One way of correcting this would be by increasing the value of `i` by 1 each time the loop is run, which is shown below."
   ]
  },
  {
   "cell_type": "code",
   "execution_count": null,
   "id": "1e24a3f4",
   "metadata": {},
   "outputs": [],
   "source": [
    "\n",
    "\n"
   ]
  },
  {
   "cell_type": "markdown",
   "id": "fad4c377",
   "metadata": {},
   "source": [
    "However, in some cases a `for` loop can do the same thing but with fewer lines of code."
   ]
  },
  {
   "cell_type": "code",
   "execution_count": null,
   "id": "da89f39a",
   "metadata": {},
   "outputs": [],
   "source": [
    "\n",
    "\n"
   ]
  },
  {
   "cell_type": "markdown",
   "id": "e6815a55",
   "metadata": {},
   "source": [
    "- - -\n",
    "**<span style=\"color:navy;font-size:16pt\">Question 3</span>** \n",
    "\n",
    "In Exercise 2 you wrote a conditional statement that prints out an outcome depending on a grade. Let's develop that code further so that it can handle multiple different grades, using integers that are selected at random.\n",
    "\n",
    "To generate random integers (among other things), you can import the Python `random` module (read more [here](https://docs.python.org/3/library/random.html)) as shown below so you can access its functionality.\n",
    "\n",
    "```python\n",
    "import random\n",
    "```"
   ]
  },
  {
   "cell_type": "markdown",
   "id": "0969cd97",
   "metadata": {},
   "source": [
    "**<span style=\"color:navy;font-size:16pt\">Example answer</span>** "
   ]
  },
  {
   "cell_type": "code",
   "execution_count": null,
   "id": "77d3f630",
   "metadata": {},
   "outputs": [],
   "source": [
    "\n",
    "\n"
   ]
  },
  {
   "cell_type": "markdown",
   "id": "ac7d179b",
   "metadata": {},
   "source": [
    "- - -\n",
    "# Part 4: Lists\n",
    "\n",
    "**<center style=\"color:darkred;font-size:12pt\">Organization of electronic data enables us to access, manage, and use the data efficiently.</center>**\n",
    "\n",
    "**<center style=\"color:darkred;font-size:12pt\">A list is one way we can store similar data to work with as a single collection in our code.</center>**"
   ]
  },
  {
   "cell_type": "markdown",
   "id": "976912d3",
   "metadata": {},
   "source": [
    "A list is defined using brackets as shown below.\n",
    "\n",
    "```python\n",
    "dnalist = [\"A\", \"T\", \"G\", \"C\"]\n",
    "```"
   ]
  },
  {
   "cell_type": "markdown",
   "id": "50d50c9f",
   "metadata": {},
   "source": [
    "It is one way of storing information in an organised way. We can do special things with lists"
   ]
  },
  {
   "cell_type": "code",
   "execution_count": null,
   "id": "f1c38e46",
   "metadata": {},
   "outputs": [],
   "source": [
    "\n",
    "\n"
   ]
  },
  {
   "cell_type": "markdown",
   "id": "298aa56a",
   "metadata": {},
   "source": [
    "Strings are also sort of like lists - we can think of a string as a list of characters."
   ]
  },
  {
   "cell_type": "code",
   "execution_count": null,
   "id": "596718d8",
   "metadata": {},
   "outputs": [],
   "source": [
    "\n",
    "\n"
   ]
  },
  {
   "cell_type": "markdown",
   "id": "2d6259f0",
   "metadata": {},
   "source": [
    "We can loop over lists."
   ]
  },
  {
   "cell_type": "code",
   "execution_count": null,
   "id": "43e82697",
   "metadata": {},
   "outputs": [],
   "source": [
    "\n",
    "\n"
   ]
  },
  {
   "cell_type": "markdown",
   "id": "6b40d32e",
   "metadata": {},
   "source": [
    "We can also place elements into a list, using the `append` method.\n"
   ]
  },
  {
   "cell_type": "code",
   "execution_count": null,
   "id": "89092594",
   "metadata": {},
   "outputs": [],
   "source": [
    "\n",
    "\n"
   ]
  },
  {
   "cell_type": "markdown",
   "id": "8d0c0738",
   "metadata": {},
   "source": [
    "**<span style=\"color:navy;font-size:16pt\">Question 4</span>** \n",
    "\n",
    "Going back to our piece of code from Question 3, refine your code so that it performs the following 3 tasks.\n",
    "\n",
    "* Create a list of 10 random grades\n",
    "* Iterate over each grade and print a result using our conditional statement\n",
    "* Print the highest and lowest grades at the end"
   ]
  },
  {
   "cell_type": "markdown",
   "id": "a58ab400",
   "metadata": {},
   "source": [
    "**<span style=\"color:navy;font-size:16pt\">Example answer</span>** "
   ]
  },
  {
   "cell_type": "code",
   "execution_count": null,
   "id": "7b1223c2",
   "metadata": {},
   "outputs": [],
   "source": [
    "\n",
    "\n"
   ]
  },
  {
   "cell_type": "markdown",
   "id": "213dcec4",
   "metadata": {},
   "source": [
    "- - -\n",
    "# Part 5: Functions\n",
    "\n",
    "**<center style=\"color:darkred;font-size:12pt\">Functions provide a way to store a piece of code, that you can easily re-use at different times and in different places.</center>**\n",
    "\n",
    "**<center style=\"color:darkred;font-size:12pt\">It's like a variable name for a whole piece of code - instead of writing the same piece of code many times, you write it once and store it in a function for later use.</center>**"
   ]
  },
  {
   "cell_type": "markdown",
   "id": "8367666a",
   "metadata": {},
   "source": [
    "Let's try the following:\n",
    "\n",
    "```python\n",
    "multiply(2,3)\n",
    "m = multiply(4,5)\n",
    "print(m)\n",
    "```"
   ]
  },
  {
   "cell_type": "code",
   "execution_count": null,
   "id": "ca92ca33",
   "metadata": {},
   "outputs": [],
   "source": [
    "\n",
    "\n"
   ]
  },
  {
   "cell_type": "markdown",
   "id": "82aff2a4",
   "metadata": {},
   "source": [
    "You get errors because there is no default `multiply` or `multiply_r` Python functions. So let's make them. Place these 6 functions in a new python file. Try calling some of these functions, using both the print and return versions.\n",
    "What do you think the `return` function is doing?"
   ]
  },
  {
   "cell_type": "code",
   "execution_count": null,
   "id": "f4aa5c72",
   "metadata": {},
   "outputs": [],
   "source": [
    "\n",
    "\n"
   ]
  },
  {
   "cell_type": "markdown",
   "id": "baa7e284",
   "metadata": {},
   "source": [
    "The `return` function terminates a function.It controls what information is sent back to where we called the function. Is there a problem with the order in the logic here? Is it telling us everything we want to know?"
   ]
  },
  {
   "cell_type": "markdown",
   "id": "b99f3bc1",
   "metadata": {},
   "source": [
    "```python\n",
    "def number_size(n):\n",
    "    if n < 100:\n",
    "        return \"Under 100\"\n",
    "    elif n < 75:\n",
    "        return \"Under 75\"\n",
    "    elif n < 50:\n",
    "        return \"Under 50\"\n",
    "    return(\"n is equal to %s\" %n)\n",
    "\n",
    "print(\"The number is 153...\", number_size(153))\n",
    "print(\"The number is 99...\", number_size(99))\n",
    "print(\"The number is 40...\", number_size(40))\n",
    "```"
   ]
  },
  {
   "cell_type": "code",
   "execution_count": null,
   "id": "874e23ec",
   "metadata": {},
   "outputs": [],
   "source": [
    "\n",
    "\n"
   ]
  },
  {
   "cell_type": "markdown",
   "id": "0e43fc19",
   "metadata": {},
   "source": [
    "Let's correct this function."
   ]
  },
  {
   "cell_type": "code",
   "execution_count": null,
   "id": "3b8d55e5",
   "metadata": {},
   "outputs": [],
   "source": [
    "\n",
    "\n",
    "    "
   ]
  },
  {
   "cell_type": "markdown",
   "id": "1642a775",
   "metadata": {},
   "source": [
    "**<span style=\"color:navy;font-size:16pt\">Question 5</span>** \n",
    "\n",
    "Let's convert our code from Question 4 into a function.\n",
    "* Name the function *gradeFeelings*\n",
    "* Make the input to the function the variable *numGrades* so different numbers of grades can be generated, modifying your existing code to work with the new variable.\n",
    "* Set up the function so that it passes back, or *returns*, the highest grade upon completion."
   ]
  },
  {
   "cell_type": "markdown",
   "id": "7050a26c",
   "metadata": {},
   "source": [
    "**<span style=\"color:navy;font-size:16pt\">Example answer</span>** "
   ]
  },
  {
   "cell_type": "code",
   "execution_count": null,
   "id": "5b5ae2a9",
   "metadata": {},
   "outputs": [],
   "source": [
    "\n",
    "\n"
   ]
  }
 ],
 "metadata": {
  "kernelspec": {
   "display_name": "Python 3 (ipykernel)",
   "language": "python",
   "name": "python3"
  },
  "language_info": {
   "codemirror_mode": {
    "name": "ipython",
    "version": 3
   },
   "file_extension": ".py",
   "mimetype": "text/x-python",
   "name": "python",
   "nbconvert_exporter": "python",
   "pygments_lexer": "ipython3",
   "version": "3.11.5"
  }
 },
 "nbformat": 4,
 "nbformat_minor": 5
}
